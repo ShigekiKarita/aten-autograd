{
 "cells": [
  {
   "cell_type": "code",
   "execution_count": 6,
   "metadata": {},
   "outputs": [
    {
     "data": {
      "text/plain": []
     },
     "execution_count": 6,
     "metadata": {},
     "output_type": "execute_result"
    }
   ],
   "source": [
    ".L ./old-build/build/stage/lib/libATen.so"
   ]
  },
  {
   "cell_type": "code",
   "execution_count": 7,
   "metadata": {},
   "outputs": [
    {
     "name": "stderr",
     "output_type": "stream",
     "text": [
      "In file included from input_line_4:1:\n",
      "In file included from /usr/lib/gcc/x86_64-redhat-linux/4.8.5/../../../../include/c++/4.8.5/iostream:39:\n",
      "In file included from /usr/lib/gcc/x86_64-redhat-linux/4.8.5/../../../../include/c++/4.8.5/ostream:38:\n",
      "In file included from /usr/lib/gcc/x86_64-redhat-linux/4.8.5/../../../../include/c++/4.8.5/ios:40:\n",
      "In file included from /usr/lib/gcc/x86_64-redhat-linux/4.8.5/../../../../include/c++/4.8.5/bits/char_traits.h:39:\n",
      "In file included from /usr/lib/gcc/x86_64-redhat-linux/4.8.5/../../../../include/c++/4.8.5/bits/stl_algobase.h:64:\n",
      "In file included from /usr/lib/gcc/x86_64-redhat-linux/4.8.5/../../../../include/c++/4.8.5/bits/stl_pair.h:59:\n",
      "In file included from /usr/lib/gcc/x86_64-redhat-linux/4.8.5/../../../../include/c++/4.8.5/bits/move.h:57:\n",
      "\u001b[1m/usr/lib/gcc/x86_64-redhat-linux/4.8.5/../../../../include/c++/4.8.5/type_traits:248:34: \u001b[0m\u001b[0;1;31merror: \u001b[0m\u001b[1mno member named 'value' in 'std::__is_integral_helper<unsigned long>'\u001b[0m\n",
      "                                      remove_cv<_Tp>::type>::value)>\n",
      "\u001b[0;1;32m                                      ~~~~~~~~~~~~~~~~~~~~~~~^\n",
      "\u001b[0m\u001b[1m/usr/lib/gcc/x86_64-redhat-linux/4.8.5/../../../../include/c++/4.8.5/type_traits:94:26: \u001b[0m\u001b[0;1;30mnote: \u001b[0min instantiation of template class 'std::is_integral<unsigned long>' requested here\u001b[0m\n",
      "    : public conditional<_B1::value, _B1, _B2>::type\n",
      "\u001b[0;1;32m                         ^\n",
      "\u001b[0m\u001b[1m/usr/lib/gcc/x86_64-redhat-linux/4.8.5/../../../../include/c++/4.8.5/type_traits:441:14: \u001b[0m\u001b[0;1;30mnote: \u001b[0min instantiation of template class 'std::__or_<std::is_integral<unsigned long>, std::is_floating_point<unsigned long> >' requested here\u001b[0m\n",
      "    : public __or_<is_integral<_Tp>, is_floating_point<_Tp>>::type\n",
      "\u001b[0;1;32m             ^\n",
      "\u001b[0m\u001b[1m/usr/lib/gcc/x86_64-redhat-linux/4.8.5/../../../../include/c++/4.8.5/type_traits:117:26: \u001b[0m\u001b[0;1;30mnote: \u001b[0min instantiation of template class 'std::is_arithmetic<unsigned long>' requested here\u001b[0m\n",
      "    : public conditional<_B1::value, _B2, _B1>::type\n",
      "\u001b[0;1;32m                         ^\n",
      "\u001b[0m\u001b[1m/usr/lib/gcc/x86_64-redhat-linux/4.8.5/../../../../include/c++/4.8.5/type_traits:576:14: \u001b[0m\u001b[0;1;30mnote: \u001b[0min instantiation of template class 'std::__and_<std::is_arithmetic<unsigned long>, std::__not_<std::is_signed<unsigned long> > >' requested here\u001b[0m\n",
      "    : public __and_<is_arithmetic<_Tp>, __not_<is_signed<_Tp>>>::type\n",
      "\u001b[0;1;32m             ^\n",
      "\u001b[0m\u001b[1m/usr/lib/gcc/x86_64-redhat-linux/4.8.5/../../../../include/c++/4.8.5/bits/random.h:451:26: \u001b[0m\u001b[0;1;30mnote: \u001b[0min instantiation of template class 'std::is_unsigned<unsigned long>' requested here\u001b[0m\n",
      "      static_assert(std::is_unsigned<_UIntType>::value, \"template argument \"\n",
      "\u001b[0;1;32m                         ^\n",
      "\u001b[0m\u001b[1m/usr/lib/gcc/x86_64-redhat-linux/4.8.5/../../../../include/c++/4.8.5/bits/random.h:1642:18: \u001b[0m\u001b[0;1;30mnote: \u001b[0min instantiation of template class 'std::mersenne_twister_engine<unsigned long, 32, 624, 397, 31, 2567483615, 11, 4294967295, 7, 2636928640, 15,\n",
      "      4022730752, 18, 1812433253>' requested here\u001b[0m\n",
      "    mt19937      _M_mt;\n",
      "\u001b[0;1;32m                 ^\n",
      "\u001b[0mIn file included from input_line_4:1:\n",
      "In file included from /usr/lib/gcc/x86_64-redhat-linux/4.8.5/../../../../include/c++/4.8.5/iostream:39:\n",
      "In file included from /usr/lib/gcc/x86_64-redhat-linux/4.8.5/../../../../include/c++/4.8.5/ostream:38:\n",
      "In file included from /usr/lib/gcc/x86_64-redhat-linux/4.8.5/../../../../include/c++/4.8.5/ios:40:\n",
      "In file included from /usr/lib/gcc/x86_64-redhat-linux/4.8.5/../../../../include/c++/4.8.5/bits/char_traits.h:39:\n",
      "In file included from /usr/lib/gcc/x86_64-redhat-linux/4.8.5/../../../../include/c++/4.8.5/bits/stl_algobase.h:64:\n",
      "In file included from /usr/lib/gcc/x86_64-redhat-linux/4.8.5/../../../../include/c++/4.8.5/bits/stl_pair.h:59:\n",
      "In file included from /usr/lib/gcc/x86_64-redhat-linux/4.8.5/../../../../include/c++/4.8.5/bits/move.h:57:\n",
      "\u001b[1m/usr/lib/gcc/x86_64-redhat-linux/4.8.5/../../../../include/c++/4.8.5/type_traits:277:34: \u001b[0m\u001b[0;1;31merror: \u001b[0m\u001b[1mno member named 'value' in 'std::__is_floating_point_helper<double>'\u001b[0m\n",
      "                                      remove_cv<_Tp>::type>::value)>\n",
      "\u001b[0;1;32m                                      ~~~~~~~~~~~~~~~~~~~~~~~^\n",
      "\u001b[0m\u001b[1m/usr/lib/gcc/x86_64-redhat-linux/4.8.5/../../../../include/c++/4.8.5/bits/random.h:2087:26: \u001b[0m\u001b[0;1;30mnote: \u001b[0min instantiation of template class 'std::is_floating_point<double>' requested here\u001b[0m\n",
      "      static_assert(std::is_floating_point<_RealType>::value,\n",
      "\u001b[0;1;32m                         ^\n",
      "\u001b[0m\u001b[1m/usr/lib/gcc/x86_64-redhat-linux/4.8.5/../../../../include/c++/4.8.5/bits/random.h:3987:40: \u001b[0m\u001b[0;1;30mnote: \u001b[0min instantiation of template class 'std::normal_distribution<double>' requested here\u001b[0m\n",
      "      std::normal_distribution<double> _M_nd;\n",
      "\u001b[0;1;32m                                       ^\n",
      "\u001b[0m\u001b[1m/usr/lib/gcc/x86_64-redhat-linux/4.8.5/../../../../include/c++/4.8.5/bits/random.h:2504:56: \u001b[0m\u001b[0;1;31merror: \u001b[0m\u001b[1mno member named 'value' in 'std::is_floating_point<double>'\u001b[0m\n",
      "      static_assert(std::is_floating_point<_RealType>::value,\n",
      "\u001b[0;1;32m                    ~~~~~~~~~~~~~~~~~~~~~~~~~~~~~~~~~~~^\n",
      "\u001b[0m\u001b[1m/usr/lib/gcc/x86_64-redhat-linux/4.8.5/../../../../include/c++/4.8.5/bits/random.h:4401:39: \u001b[0m\u001b[0;1;30mnote: \u001b[0min instantiation of template class 'std::gamma_distribution<double>' requested here\u001b[0m\n",
      "      std::gamma_distribution<double> _M_gd;\n",
      "\u001b[0;1;32m                                      ^\n",
      "\u001b[0mIn file included from input_line_4:1:\n",
      "In file included from /usr/lib/gcc/x86_64-redhat-linux/4.8.5/../../../../include/c++/4.8.5/iostream:39:\n",
      "In file included from /usr/lib/gcc/x86_64-redhat-linux/4.8.5/../../../../include/c++/4.8.5/ostream:38:\n",
      "In file included from /usr/lib/gcc/x86_64-redhat-linux/4.8.5/../../../../include/c++/4.8.5/ios:40:\n",
      "In file included from /usr/lib/gcc/x86_64-redhat-linux/4.8.5/../../../../include/c++/4.8.5/bits/char_traits.h:39:\n",
      "In file included from /usr/lib/gcc/x86_64-redhat-linux/4.8.5/../../../../include/c++/4.8.5/bits/stl_algobase.h:64:\n",
      "In file included from /usr/lib/gcc/x86_64-redhat-linux/4.8.5/../../../../include/c++/4.8.5/bits/stl_pair.h:59:\n",
      "In file included from /usr/lib/gcc/x86_64-redhat-linux/4.8.5/../../../../include/c++/4.8.5/bits/move.h:57:\n",
      "\u001b[1m/usr/lib/gcc/x86_64-redhat-linux/4.8.5/../../../../include/c++/4.8.5/type_traits:117:31: \u001b[0m\u001b[0;1;31merror: \u001b[0m\u001b[1mno member named 'value' in 'std::__not_<std::is_reference<std::random_access_iterator_tag> >'\u001b[0m\n",
      "    : public conditional<_B1::value, _B2, _B1>::type\n",
      "\u001b[0;1;32m                         ~~~~~^\n",
      "\u001b[0m\u001b[1m/usr/lib/gcc/x86_64-redhat-linux/4.8.5/../../../../include/c++/4.8.5/type_traits:1407:19: \u001b[0m\u001b[0;1;30mnote: \u001b[0min instantiation of template class 'std::__and_<std::__not_<std::is_reference<std::random_access_iterator_tag> >,\n",
      "      std::__not_<std::is_void<std::random_access_iterator_tag> > >' requested here\u001b[0m\n",
      "           bool = __and_<__not_<is_reference<_Tp>>,\n",
      "\u001b[0;1;32m                  ^\n",
      "\u001b[0m\u001b[1m/usr/lib/gcc/x86_64-redhat-linux/4.8.5/../../../../include/c++/4.8.5/type_traits:1419:14: \u001b[0m\u001b[0;1;30mnote: \u001b[0min instantiation of default argument for '__add_rvalue_reference_helper<std::random_access_iterator_tag>' required here\u001b[0m\n",
      "    : public __add_rvalue_reference_helper<_Tp>\n",
      "\u001b[0;1;32m             ^~~~~~~~~~~~~~~~~~~~~~~~~~~~~~~~~~\n",
      "\u001b[0m\u001b[1m/usr/lib/gcc/x86_64-redhat-linux/4.8.5/../../../../include/c++/4.8.5/type_traits:590:5: \u001b[0m\u001b[0;1;30mnote: \u001b[0min instantiation of template class 'std::add_rvalue_reference<std::random_access_iterator_tag>' requested here\u001b[0m\n",
      "    typename add_rvalue_reference<_Tp>::type declval() noexcept;\n",
      "\u001b[0;1;32m    ^\n",
      "\u001b[0m\u001b[1m/usr/lib/gcc/x86_64-redhat-linux/4.8.5/../../../../include/c++/4.8.5/type_traits:1305:42: \u001b[0m\u001b[0;1;30mnote: \u001b[0mwhile substituting explicitly-specified template arguments into function template 'declval'\u001b[0m\n",
      "        static decltype(__test_aux<_To1>(std::declval<_From1>()), __one())\n",
      "\u001b[0;1;32m                                         ^\n",
      "\u001b[0m\u001b[1m/usr/lib/gcc/x86_64-redhat-linux/4.8.5/../../../../include/c++/4.8.5/type_traits:1312:44: \u001b[0m\u001b[0;1;30mnote: \u001b[0mwhile substituting explicitly-specified template arguments into function template '__test'\u001b[0m\n",
      "      static constexpr bool value = sizeof(__test<_From, _To>(0)) == 1;\n",
      "\u001b[0;1;32m                                           ^\n"
     ]
    },
    {
     "name": "stderr",
     "output_type": "stream",
     "text": [
      "\u001b[0m\u001b[1m/usr/lib/gcc/x86_64-redhat-linux/4.8.5/../../../../include/c++/4.8.5/type_traits:1319:48: \u001b[0m\u001b[0;1;30mnote: \u001b[0min instantiation of static data member 'std::__is_convertible_helper<std::random_access_iterator_tag, std::input_iterator_tag, false>::value' requested\n",
      "      here\u001b[0m\n",
      "                               __is_convertible_helper<_From, _To>::value>\n",
      "\u001b[0;1;32m                                                                    ^\n",
      "\u001b[0m\u001b[1m/usr/lib/gcc/x86_64-redhat-linux/4.8.5/../../../../include/c++/4.8.5/bits/stl_iterator_base_types.h:227:17: \u001b[0m\u001b[0;1;30mnote: \u001b[0min instantiation of template class 'std::is_convertible<std::random_access_iterator_tag, std::input_iterator_tag>' requested here\u001b[0m\n",
      "      enable_if<is_convertible<typename\n",
      "\u001b[0;1;32m                ^\n",
      "\u001b[0m\u001b[1m/usr/lib/gcc/x86_64-redhat-linux/4.8.5/../../../../include/c++/4.8.5/bits/stl_vector.h:391:25: \u001b[0m\u001b[0;1;30mnote: \u001b[0min instantiation of template type alias '_RequireInputIter' requested here\u001b[0m\n",
      "               typename = std::_RequireInputIter<_InputIterator>>\n",
      "\u001b[0;1;32m                               ^\n",
      "\u001b[0m\u001b[1m/usr/lib/gcc/x86_64-redhat-linux/4.8.5/../../../../include/c++/4.8.5/bits/stl_vector.h:392:9: \u001b[0m\u001b[0;1;30mnote: \u001b[0min instantiation of default argument for 'vector<const double *>' required here\u001b[0m\n",
      "        vector(_InputIterator __first, _InputIterator __last,\n",
      "\u001b[0;1;32m        ^~~~~~~~~~~~~~~~~~~~~~~~~~~~~~~~~~~~~~~~~~~~~~~~~~~~~\n",
      "\u001b[0m\u001b[1m/usr/lib/gcc/x86_64-redhat-linux/4.8.5/../../../../include/c++/4.8.5/bits/random.h:5276:4: \u001b[0m\u001b[0;1;30mnote: \u001b[0mwhile substituting deduced template arguments into function template 'vector' [with _InputIterator = const double *, $1 = (no value)]\u001b[0m\n",
      "        : _M_prob(__wil.begin(), __wil.end()), _M_cp()\n",
      "\u001b[0;1;32m          ^\n",
      "\u001b[0m\u001b[1m/usr/lib/gcc/x86_64-redhat-linux/4.8.5/../../../../include/c++/4.8.5/bits/random.h:5276:4: \u001b[0m\u001b[0;1;31merror: \u001b[0m\u001b[1mno matching constructor for initialization of 'std::vector<double>'\u001b[0m\n",
      "        : _M_prob(__wil.begin(), __wil.end()), _M_cp()\n",
      "\u001b[0;1;32m          ^       ~~~~~~~~~~~~~~~~~~~~~~~~~~\n",
      "\u001b[0m\u001b[1m/usr/lib/gcc/x86_64-redhat-linux/4.8.5/../../../../include/c++/4.8.5/bits/stl_vector.h:281:7: \u001b[0m\u001b[0;1;30mnote: \u001b[0mcandidate constructor not viable: no known conversion from 'std::initializer_list<double>::const_iterator' (aka 'const double *') to\n",
      "      'std::vector::size_type' (aka 'unsigned long') for 1st argument; dereference the argument with *\u001b[0m\n",
      "      vector(size_type __n, const value_type& __value,\n",
      "\u001b[0;1;32m      ^\n",
      "\u001b[0m\u001b[1m/usr/lib/gcc/x86_64-redhat-linux/4.8.5/../../../../include/c++/4.8.5/bits/stl_vector.h:269:7: \u001b[0m\u001b[0;1;30mnote: \u001b[0mcandidate constructor not viable: no known conversion from 'std::initializer_list<double>::const_iterator' (aka 'const double *') to\n",
      "      'std::vector::size_type' (aka 'unsigned long') for 1st argument; dereference the argument with *\u001b[0m\n",
      "      vector(size_type __n, const allocator_type& __a = allocator_type())\n",
      "\u001b[0;1;32m      ^\n",
      "\u001b[0m\u001b[1m/usr/lib/gcc/x86_64-redhat-linux/4.8.5/../../../../include/c++/4.8.5/bits/stl_vector.h:331:7: \u001b[0m\u001b[0;1;30mnote: \u001b[0mcandidate constructor not viable: no known conversion from 'std::initializer_list<double>::const_iterator' (aka 'const double *') to 'const\n",
      "      std::vector<double, std::allocator<double> >' for 1st argument\u001b[0m\n",
      "      vector(const vector& __x, const allocator_type& __a)\n",
      "\u001b[0;1;32m      ^\n",
      "\u001b[0m\u001b[1m/usr/lib/gcc/x86_64-redhat-linux/4.8.5/../../../../include/c++/4.8.5/bits/stl_vector.h:340:7: \u001b[0m\u001b[0;1;30mnote: \u001b[0mcandidate constructor not viable: no known conversion from 'std::initializer_list<double>::const_iterator' (aka 'const double *') to\n",
      "      'std::vector<double, std::allocator<double> >' for 1st argument\u001b[0m\n",
      "      vector(vector&& __rv, const allocator_type& __m)\n",
      "\u001b[0;1;32m      ^\n",
      "\u001b[0m\u001b[1m/usr/lib/gcc/x86_64-redhat-linux/4.8.5/../../../../include/c++/4.8.5/bits/stl_vector.h:364:7: \u001b[0m\u001b[0;1;30mnote: \u001b[0mcandidate constructor not viable: no known conversion from 'std::initializer_list<double>::const_iterator' (aka 'const double *') to\n",
      "      'initializer_list<std::vector<double, std::allocator<double> >::value_type>' (aka 'initializer_list<double>') for 1st argument\u001b[0m\n",
      "      vector(initializer_list<value_type> __l,\n",
      "\u001b[0;1;32m      ^\n",
      "\u001b[0m\u001b[1m/usr/lib/gcc/x86_64-redhat-linux/4.8.5/../../../../include/c++/4.8.5/bits/stl_vector.h:392:9: \u001b[0m\u001b[0;1;30mnote: \u001b[0mcandidate template ignored: requirement 'is_convertible<typename iterator_traits<const double *>::iterator_category, input_iterator_tag>::value' was not\n",
      "      satisfied [with _InputIterator = const double *]\u001b[0m\n",
      "        vector(_InputIterator __first, _InputIterator __last,\n",
      "\u001b[0;1;32m        ^\n",
      "\u001b[0m\u001b[1m/usr/lib/gcc/x86_64-redhat-linux/4.8.5/../../../../include/c++/4.8.5/bits/stl_vector.h:256:7: \u001b[0m\u001b[0;1;30mnote: \u001b[0mcandidate constructor not viable: requires single argument '__a', but 2 arguments were provided\u001b[0m\n",
      "      vector(const allocator_type& __a)\n",
      "\u001b[0;1;32m      ^\n",
      "\u001b[0m\u001b[1m/usr/lib/gcc/x86_64-redhat-linux/4.8.5/../../../../include/c++/4.8.5/bits/stl_vector.h:310:7: \u001b[0m\u001b[0;1;30mnote: \u001b[0mcandidate constructor not viable: requires single argument '__x', but 2 arguments were provided\u001b[0m\n",
      "      vector(const vector& __x)\n",
      "\u001b[0;1;32m      ^\n",
      "\u001b[0m\u001b[1m/usr/lib/gcc/x86_64-redhat-linux/4.8.5/../../../../include/c++/4.8.5/bits/stl_vector.h:327:7: \u001b[0m\u001b[0;1;30mnote: \u001b[0mcandidate constructor not viable: requires single argument '__x', but 2 arguments were provided\u001b[0m\n",
      "      vector(vector&& __x) noexcept\n",
      "\u001b[0;1;32m      ^\n",
      "\u001b[0m\u001b[1m/usr/lib/gcc/x86_64-redhat-linux/4.8.5/../../../../include/c++/4.8.5/bits/stl_vector.h:248:7: \u001b[0m\u001b[0;1;30mnote: \u001b[0mcandidate constructor not viable: requires 0 arguments, but 2 were provided\u001b[0m\n",
      "      vector()\n",
      "\u001b[0;1;32m      ^\n",
      "\u001b[0mIn file included from input_line_10:1:\n",
      "\u001b[1m./atnn/function.hpp:13:10: \u001b[0m\u001b[0;1;31mfatal error: \u001b[0m\u001b[1m'ATen/ATen.h' file not found\u001b[0m\n",
      "#include <ATen/ATen.h>\n",
      "\u001b[0;1;32m         ^~~~~~~~~~~~~\n",
      "\u001b[0m"
     ]
    },
    {
     "ename": "ename",
     "evalue": "evalue",
     "output_type": "error",
     "traceback": []
    }
   ],
   "source": [
    "#include <atnn/function.hpp>\n",
    "#include <atnn/testing.hpp>\n",
    "#include <atnn/grad_check.hpp>\n",
    "#include <atnn/chain.hpp>\n",
    "\n",
    "\n",
    "struct Pow : atnn::function::Function<Pow> {\n",
    "    auto impl_forward(const atnn::TList& x) {\n",
    "        this->save_for_backward(x);\n",
    "        return x[0].pow(this->n);\n",
    "    }\n",
    "\n",
    "    atnn::VList impl_backward(const atnn::VList& gy) {\n",
    "        auto&& _x = this->saved_tensors[0];\n",
    "        return {atnn::Variable(gy[0].data() * _x.pow(this->n - 1) * this->n, false)};\n",
    "    }\n",
    "    double n = 2;\n",
    "    Pow(double n) : n(n) {}\n",
    "};\n",
    "\n",
    "struct Add : atnn::function::Function<Add> {\n",
    "    auto impl_forward(atnn::TList x) {\n",
    "        return x[0] + x[1];\n",
    "    }\n",
    "\n",
    "    atnn::VList impl_backward(atnn::VList gy) {\n",
    "        return {gy[0], gy[0]};\n",
    "    }\n",
    "};\n"
   ]
  },
  {
   "cell_type": "code",
   "execution_count": null,
   "metadata": {},
   "outputs": [
    {
     "name": "stderr",
     "output_type": "stream",
     "text": [
      "IncrementalExecutor::executeFunction: symbol '__emutls_v._ZSt11__once_call' unresolved while linking function '_GLOBAL__sub_I_cling_module_2'!\n",
      "IncrementalExecutor::executeFunction: symbol '__emutls_v._ZSt15__once_callable' unresolved while linking function '_GLOBAL__sub_I_cling_module_2'!\n"
     ]
    },
    {
     "data": {
      "text/plain": [
       "(at::Tensor &) @0x7f5bc18eb060\n"
      ]
     },
     "execution_count": 3,
     "metadata": {},
     "output_type": "execute_result"
    }
   ],
   "source": [
    "auto device = at::CPU;\n",
    "at::Tensor d = device(at::kFloat).randn({3, 4});\n",
    "at::Tensor gy = device(at::kFloat).randn({3, 4});\n",
    "d"
   ]
  },
  {
   "cell_type": "code",
   "execution_count": 2,
   "metadata": {},
   "outputs": [
    {
     "data": {
      "text/plain": []
     },
     "execution_count": 2,
     "metadata": {},
     "output_type": "execute_result"
    }
   ],
   "source": [
    "#include <iostream>\n",
    "#include <vector>"
   ]
  },
  {
   "cell_type": "code",
   "execution_count": 3,
   "metadata": {},
   "outputs": [
    {
     "data": {
      "text/plain": []
     },
     "execution_count": 3,
     "metadata": {},
     "output_type": "execute_result"
    }
   ],
   "source": [
    "std::vector v = {1, 2, 3}"
   ]
  },
  {
   "cell_type": "code",
   "execution_count": 5,
   "metadata": {},
   "outputs": [
    {
     "data": {
      "text/plain": [
       "(int) 2\n"
      ]
     },
     "execution_count": 5,
     "metadata": {},
     "output_type": "execute_result"
    }
   ],
   "source": [
    "v[1]"
   ]
  },
  {
   "cell_type": "code",
   "execution_count": null,
   "metadata": {},
   "outputs": [],
   "source": []
  }
 ],
 "metadata": {
  "kernelspec": {
   "display_name": "C++17",
   "language": "C++",
   "name": "cling-cpp17"
  },
  "language_info": {
   "codemirror_mode": "c++",
   "file_extension": ".c++",
   "mimetype": "text/x-c++src",
   "name": "c++"
  }
 },
 "nbformat": 4,
 "nbformat_minor": 2
}
